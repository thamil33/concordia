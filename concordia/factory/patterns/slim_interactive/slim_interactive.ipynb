{
 "cells": [
  {
   "cell_type": "code",
   "execution_count": 2,
   "id": "0854f608",
   "metadata": {},
   "outputs": [
    {
     "ename": "ModuleNotFoundError",
     "evalue": "No module named 'concordia.factory.patterns.slim_engine'",
     "output_type": "error",
     "traceback": [
      "\u001b[31m---------------------------------------------------------------------------\u001b[39m",
      "\u001b[31mModuleNotFoundError\u001b[39m                       Traceback (most recent call last)",
      "\u001b[36mCell\u001b[39m\u001b[36m \u001b[39m\u001b[32mIn[2]\u001b[39m\u001b[32m, line 10\u001b[39m\n\u001b[32m      7\u001b[39m \u001b[38;5;28;01mfrom\u001b[39;00m\u001b[38;5;250m \u001b[39m\u001b[34;01mconcordia\u001b[39;00m\u001b[34;01m.\u001b[39;00m\u001b[34;01mutils\u001b[39;00m\u001b[38;5;250m \u001b[39m\u001b[38;5;28;01mimport\u001b[39;00m helper_functions\n\u001b[32m      9\u001b[39m \u001b[38;5;66;03m# Import our custom patterns\u001b[39;00m\n\u001b[32m---> \u001b[39m\u001b[32m10\u001b[39m \u001b[38;5;28;01mfrom\u001b[39;00m\u001b[38;5;250m \u001b[39m\u001b[34;01mconcordia\u001b[39;00m\u001b[34;01m.\u001b[39;00m\u001b[34;01mfactory\u001b[39;00m\u001b[34;01m.\u001b[39;00m\u001b[34;01mpatterns\u001b[39;00m\u001b[34;01m.\u001b[39;00m\u001b[34;01mslim_engine\u001b[39;00m\u001b[38;5;250m \u001b[39m\u001b[38;5;28;01mimport\u001b[39;00m LivingSimulation\n\u001b[32m     11\u001b[39m \u001b[38;5;28;01mfrom\u001b[39;00m\u001b[38;5;250m \u001b[39m\u001b[34;01mconcordia\u001b[39;00m\u001b[34;01m.\u001b[39;00m\u001b[34;01mfactory\u001b[39;00m\u001b[34;01m.\u001b[39;00m\u001b[34;01mpatterns\u001b[39;00m\u001b[34;01m.\u001b[39;00m\u001b[34;01mslim_agent\u001b[39;00m\u001b[38;5;250m \u001b[39m\u001b[38;5;28;01mimport\u001b[39;00m SlimAgent\n",
      "\u001b[31mModuleNotFoundError\u001b[39m: No module named 'concordia.factory.patterns.slim_engine'"
     ]
    }
   ],
   "source": [
    "from IPython.display import display, HTML\n",
    "\n",
    "# Import Concordia framework components\n",
    "from concordia.language_model.model_client_initialization import ModelClient\n",
    "import concordia.prefabs.game_master as game_master_prefabs\n",
    "from concordia.type_checks import prefab as prefab_lib\n",
    "from concordia.utils import helper_functions\n",
    "\n",
    "# Import our custom patterns\n",
    "from concordia.factory.patterns.slim_engine import LivingSimulation\n",
    "from concordia.factory.patterns.slim_agent import SlimAgent"
   ]
  }
 ],
 "metadata": {
  "kernelspec": {
   "display_name": "a0",
   "language": "python",
   "name": "python3"
  },
  "language_info": {
   "codemirror_mode": {
    "name": "ipython",
    "version": 3
   },
   "file_extension": ".py",
   "mimetype": "text/x-python",
   "name": "python",
   "nbconvert_exporter": "python",
   "pygments_lexer": "ipython3",
   "version": "3.12.11"
  }
 },
 "nbformat": 4,
 "nbformat_minor": 5
}
