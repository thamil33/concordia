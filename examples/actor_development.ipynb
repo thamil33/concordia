{
  "cells": [
    {
      "cell_type": "markdown",
      "metadata": {
        "id": "-n3Rngfddxii"
      },
      "source": [
        "This notebook is a basic tutorial that demonstrates how to make an actor prefab and put it into a simulation using Concordia."
      ]
    },
    {
      "cell_type": "code",
      "execution_count": null,
      "metadata": {
        "id": "R8N4hGX5ci_d"
      },
      "outputs": [],
      "source": [
        "# @title Imports\n",
        "\n",
        "from collections.abc import Mapping\n",
        "import dataclasses\n",
        "import numpy as np\n",
        "from IPython import display\n",
        "\n",
        "import sentence_transformers\n",
        "\n",
        "from concordia.agents import entity_agent_with_logging\n",
        "from concordia.associative_memory import basic_associative_memory\n",
        "from concordia.components import agent as agent_components\n",
        "from concordia.document import interactive_document\n",
        "\n",
        "from concordia.language_model.model_client_initialization import ModelClient\n",
        "from concordia.language_model import openrouter_model\n",
        "\n",
        "import concordia.prefabs.entity as entity_prefabs\n",
        "import concordia.prefabs.game_master as game_master_prefabs\n",
        "\n",
        "from concordia.prefabs.simulation import generic as simulation\n",
        "from concordia.type_checks import prefab as prefab_lib\n",
        "from concordia.utils import helper_functions\n"
      ]
    },
    {
      "cell_type": "code",
      "execution_count": null,
      "metadata": {
        "id": "Za2zOpeTci8_"
      },
      "outputs": [],
      "source": [
        "# Initialize the client\n",
        "client = ModelClient()\n",
        "model = client.model\n",
        "embedder = client.embedder"
      ]
    },
    {
      "cell_type": "code",
      "execution_count": null,
      "metadata": {
        "id": "Ya7BvCG1cwNY"
      },
      "outputs": [],
      "source": [
        "# @title Load prefabs from packages to make the specific palette to use here.\n",
        "\n",
        "prefabs = {\n",
        "    **helper_functions.get_package_classes(entity_prefabs),\n",
        "    **helper_functions.get_package_classes(game_master_prefabs),\n",
        "}"
      ]
    },
    {
      "cell_type": "code",
      "execution_count": null,
      "metadata": {
        "id": "TSB7w33mRMOj"
      },
      "outputs": [],
      "source": [
        "#@title Print menu of prefabs\n",
        "\n",
        "display.display(\n",
        "    display.Markdown(helper_functions.print_pretty_prefabs(prefabs)))"
      ]
    },
    {
      "cell_type": "code",
      "execution_count": null,
      "metadata": {
        "id": "cKefuoQzj7tA"
      },
      "outputs": [],
      "source": [
        "DEFAULT_INSTRUCTIONS_COMPONENT_KEY = 'Instructions'\n",
        "DEFAULT_INSTRUCTIONS_PRE_ACT_LABEL = '\\nInstructions'\n",
        "\n",
        "\n",
        "@dataclasses.dataclass\n",
        "class MyAgent(prefab_lib.Prefab):\n",
        "  \"\"\"A prefab implementing an entity with a minimal set of components.\"\"\"\n",
        "\n",
        "  description: str = (\n",
        "      'An entity that has a minimal set of components and is configurable by'\n",
        "      ' the user. The initial set of components manage memory, observations,'\n",
        "      ' and instructions. If goal is specified, the entity will have a goal '\n",
        "      'constant component.'\n",
        "  )\n",
        "  params: Mapping[str, str] = dataclasses.field(\n",
        "      default_factory=lambda: {\n",
        "          'name': 'Alice',\n",
        "      }\n",
        "  )\n",
        "\n",
        "  def build(\n",
        "      self,\n",
        "      model: openrouter_model,\n",
        "      memory_bank: basic_associative_memory.AssociativeMemoryBank,\n",
        "  ) -> entity_agent_with_logging.EntityAgentWithLogging:\n",
        "    \"\"\"Build an agent.\n",
        "\n",
        "    Args:\n",
        "      model: The language model to use.\n",
        "      memory_bank: The agent's memory_bank object.\n",
        "\n",
        "    Returns:\n",
        "      An entity.\n",
        "    \"\"\"\n",
        "\n",
        "    agent_name = self.params.get('name', 'Bob')\n",
        "\n",
        "    instructions = agent_components.instructions.Instructions(\n",
        "          agent_name=agent_name,\n",
        "          pre_act_label=DEFAULT_INSTRUCTIONS_PRE_ACT_LABEL,\n",
        "      )\n",
        "\n",
        "    observation_to_memory = agent_components.observation.ObservationToMemory()\n",
        "\n",
        "    observation_label = '\\nObservation'\n",
        "    observation = agent_components.observation.LastNObservations(\n",
        "        history_length=100, pre_act_label=observation_label\n",
        "    )\n",
        "\n",
        "    principle = agent_components.question_of_recent_memories.QuestionOfRecentMemories(\n",
        "        model=model,\n",
        "        pre_act_label=f'{agent_name} main guiding principle:',\n",
        "        question=(f'How can {agent_name} exploit the situation for personal '\n",
        "                  'gain and gratification?'),\n",
        "        answer_prefix=f'{agent_name} understands that ',\n",
        "        add_to_memory=False,\n",
        "    )\n",
        "\n",
        "    components_of_agent = {\n",
        "        DEFAULT_INSTRUCTIONS_COMPONENT_KEY: instructions,\n",
        "        'observation_to_memory': observation_to_memory,\n",
        "        agent_components.observation.DEFAULT_OBSERVATION_COMPONENT_KEY: (\n",
        "            observation\n",
        "        ),\n",
        "        agent_components.memory.DEFAULT_MEMORY_COMPONENT_KEY: (\n",
        "            agent_components.memory.AssociativeMemory(memory_bank=memory_bank)\n",
        "        ),\n",
        "        'principle': principle,\n",
        "    }\n",
        "\n",
        "    component_order = list(components_of_agent.keys())\n",
        "\n",
        "    act_component = agent_components.concat_act_component.ConcatActComponent(\n",
        "        model=model,\n",
        "        component_order=component_order,\n",
        "    )\n",
        "\n",
        "    agent = entity_agent_with_logging.EntityAgentWithLogging(\n",
        "        agent_name=agent_name,\n",
        "        act_component=act_component,\n",
        "        context_components=components_of_agent,\n",
        "    )\n",
        "\n",
        "    return agent\n"
      ]
    },
    {
      "cell_type": "code",
      "execution_count": null,
      "metadata": {
        "id": "fEOZ0lhBtfaB"
      },
      "outputs": [],
      "source": [
        "prefabs['myagent__Entity'] = MyAgent()"
      ]
    },
    {
      "cell_type": "code",
      "execution_count": null,
      "metadata": {
        "id": "NujDQ8gg9xfC"
      },
      "outputs": [],
      "source": [
        "# @title Generate initial conditions for the simulation\n",
        "\n",
        "YEAR = 1546\n",
        "PLACE = 'St Andrews, Scotland'\n",
        "NUM_STATEMENTS = 20\n",
        "NAMES_TO_GENERATE = 10\n",
        "\n",
        "prompt = interactive_document.InteractiveDocument(model)\n",
        "unparsed_statements = prompt.open_question(\n",
        "    question=(f\"Generate a string of {NUM_STATEMENTS} facts about {PLACE} in \"\n",
        "              f\"the year {YEAR}. Write them in present tense. Separate them \"\n",
        "              \"with ' *** '.\"),\n",
        "    max_tokens=4500,\n",
        ")\n",
        "statements = unparsed_statements.split('***')\n",
        "statements = [s.strip() for s in statements]\n",
        "\n",
        "for statement in statements:\n",
        "  print(statement)\n",
        "\n",
        "unparsed_names = prompt.open_question(\n",
        "    f\"Generate a string of {NAMES_TO_GENERATE} names appropriate for this \"\n",
        "    \"time and place. Include surnames. Separate them with ' *** '\")\n",
        "names = unparsed_names.split('***')\n",
        "names = [n.strip() for n in names]\n",
        "\n",
        "PLAYER_ONE = names[0]\n",
        "PLAYER_TWO = names[1]\n",
        "\n",
        "print('\\n')\n",
        "print(f'Player one: {PLAYER_ONE}')\n",
        "print(f'Player two: {PLAYER_TWO}')\n",
        "\n",
        "prefix = f'{PLAYER_ONE} and {PLAYER_TWO} '\n",
        "premise = prompt.open_question(\n",
        "    question=(f'Given the setting, why are {PLAYER_ONE} and {PLAYER_TWO} about '\n",
        "              'to interact?'),\n",
        "    answer_prefix=prefix)\n",
        "premise = f'{prefix}{premise}'\n",
        "\n",
        "print('\\n')\n",
        "print(premise)\n",
        "\n",
        "player_one_context = prompt.open_question(\n",
        "    question=(f'{PLAYER_ONE} has a goal or interest that, if pursued, '\n",
        "              f'would complicate things for {PLAYER_TWO}. What is it?'),\n",
        "    max_tokens=1000,\n",
        ")\n",
        "\n",
        "print('\\n')\n",
        "print(player_one_context)\n",
        "\n",
        "player_two_context = prompt.open_question(\n",
        "    question=(f'{PLAYER_TWO} has a goal or interest that, if pursued, '\n",
        "              f'would complicate things for {PLAYER_ONE}. What is it?'),\n",
        "    max_tokens=1000,\n",
        ")\n",
        "\n",
        "print('\\n')\n",
        "print(player_two_context)\n"
      ]
    },
    {
      "cell_type": "code",
      "execution_count": null,
      "metadata": {
        "id": "bREMbhkVcwQH"
      },
      "outputs": [],
      "source": [
        "# @title Configure instances.\n",
        "\n",
        "instances = [\n",
        "    prefab_lib.InstanceConfig(\n",
        "        prefab='basic__Entity',\n",
        "        role=prefab_lib.Role.ENTITY,\n",
        "        params={\n",
        "            'name': PLAYER_ONE,\n",
        "        },\n",
        "    ),\n",
        "    prefab_lib.InstanceConfig(\n",
        "        prefab='myagent__Entity',\n",
        "        role=prefab_lib.Role.ENTITY,\n",
        "        params={\n",
        "            'name': PLAYER_TWO,\n",
        "        },\n",
        "    ),\n",
        "    prefab_lib.InstanceConfig(\n",
        "        prefab='generic__GameMaster',\n",
        "        role=prefab_lib.Role.GAME_MASTER,\n",
        "        params={\n",
        "            'name': 'default rules',\n",
        "            'acting_order': 'game_master_choice',\n",
        "        },\n",
        "    ),\n",
        "    prefab_lib.InstanceConfig(\n",
        "        prefab='dialogic__GameMaster',\n",
        "        role=prefab_lib.Role.GAME_MASTER,\n",
        "        params={\n",
        "            'name': 'conversation rules',\n",
        "        },\n",
        "    ),\n",
        "    prefab_lib.InstanceConfig(\n",
        "        prefab='formative_memories_initializer__GameMaster',\n",
        "        role=prefab_lib.Role.INITIALIZER,\n",
        "        params={\n",
        "            'name': 'initial setup rules',\n",
        "            'next_game_master_name': 'default rules',\n",
        "            'shared_memories': statements,\n",
        "            'player_specific_context': {PLAYER_ONE : [player_one_context],\n",
        "                                        PLAYER_TWO : [player_two_context]},\n",
        "        },\n",
        "    ),\n",
        "]"
      ]
    },
    {
      "cell_type": "code",
      "execution_count": null,
      "metadata": {
        "id": "LvZQZ2qmcwSU"
      },
      "outputs": [],
      "source": [
        "config = prefab_lib.Config(\n",
        "    default_premise=premise,\n",
        "    default_max_steps=5,\n",
        "    prefabs=prefabs,\n",
        "    instances=instances,\n",
        ")"
      ]
    },
    {
      "cell_type": "markdown",
      "metadata": {
        "id": "dJiP0nFzdHwM"
      },
      "source": [
        "# The simulation"
      ]
    },
    {
      "cell_type": "code",
      "execution_count": null,
      "metadata": {
        "id": "6-aNTmgacwbk"
      },
      "outputs": [],
      "source": [
        "# @title Initialize the simulation\n",
        "runnable_simulation = simulation.Simulation(\n",
        "    config=config,\n",
        "    model=model,\n",
        "    embedder=embedder,\n",
        ")"
      ]
    },
    {
      "cell_type": "code",
      "execution_count": null,
      "metadata": {
        "id": "dl1wJP9EcweG"
      },
      "outputs": [],
      "source": [
        "# @title Run the simulation\n",
        "raw_log = []\n",
        "results_log = runnable_simulation.play(max_steps=5,\n",
        "                                       raw_log=raw_log)"
      ]
    },
    {
      "cell_type": "code",
      "execution_count": null,
      "metadata": {
        "id": "oQvo3alwdMgE"
      },
      "outputs": [],
      "source": [
        "# @title Display the log\n",
        "display.HTML(results_log)"
      ]
    }
  ],
  "metadata": {
    "colab": {
      "private_outputs": true,
      "provenance": [],
      "toc_visible": true
    },
    "language_info": {
      "name": "python"
    }
  },
  "nbformat": 4,
  "nbformat_minor": 0
}
