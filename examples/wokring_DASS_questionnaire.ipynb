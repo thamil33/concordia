{
  "cells": [
    {
      "cell_type": "markdown",
      "metadata": {
        "id": "yR8zLEl-Q-sR"
      },
      "source": [
        "This notebook is a guide for running a Concordia Framework Simulation"
      ]
    },
    {
      "cell_type": "markdown",
      "metadata": {},
      "source": [
        "### Language Model setup"
      ]
    },
    {
      "cell_type": "code",
      "execution_count": 1,
      "metadata": {
        "id": "psW9YfYltDzj"
      },
      "outputs": [
        {
          "name": "stderr",
          "output_type": "stream",
          "text": [
            "c:\\Users\\tyler\\miniconda3\\envs\\a0\\Lib\\site-packages\\sentence_transformers\\cross_encoder\\CrossEncoder.py:11: TqdmExperimentalWarning: Using `tqdm.autonotebook.tqdm` in notebook mode. Use `tqdm.tqdm` instead to force console mode (e.g. in jupyter console)\n",
            "  from tqdm.autonotebook import tqdm, trange\n"
          ]
        }
      ],
      "source": [
        "# @title Imports\n",
        "import concordia.prefabs.simulation.questionnaire_simulation as questionnaire_simulation\n",
        "import concordia.prefabs.entity as entity_prefabs\n",
        "import concordia.prefabs.game_master as game_master_prefabs\n",
        "\n",
        "from concordia.type_checks import prefab as prefab_lib\n",
        "from concordia.language_model.model_client_initialization import ModelClient\n",
        "from concordia.utils import helper_functions\n",
        "\n",
        "from IPython import display\n"
      ]
    },
    {
      "cell_type": "code",
      "execution_count": 19,
      "metadata": {},
      "outputs": [
        {
          "name": "stdout",
          "output_type": "stream",
          "text": [
            "Initializing model for provider: lmstudio\n"
          ]
        }
      ],
      "source": [
        "# Initialize the client\n",
        "client = ModelClient()\n",
        "model = client.model\n",
        "embedder = client.embedder"
      ]
    },
    {
      "cell_type": "code",
      "execution_count": 20,
      "metadata": {
        "id": "_j3qaLBNHp_P"
      },
      "outputs": [
        {
          "name": "stdout",
          "output_type": "stream",
          "text": [
            "The capital of France is Paris.\n"
          ]
        }
      ],
      "source": [
        "test = model.sample_text(\n",
        "    'Answer with a single statement: What is the capital of France?')\n",
        "print(test)"
      ]
    },
    {
      "cell_type": "markdown",
      "metadata": {
        "id": "ixIOLiWL4s8-"
      },
      "source": [
        "# Parameters"
      ]
    },
    {
      "cell_type": "code",
      "execution_count": 21,
      "metadata": {
        "id": "2jg5UkxprRCz"
      },
      "outputs": [],
      "source": [
        "# Load prefabs from packages to make the specific palette to use here.\n",
        "\n",
        "prefabs = {\n",
        "    **helper_functions.get_package_classes(entity_prefabs),\n",
        "    **helper_functions.get_package_classes(game_master_prefabs),\n",
        "}"
      ]
    },
    {
      "cell_type": "code",
      "execution_count": 22,
      "metadata": {
        "id": "7yK5YJqsJe-R"
      },
      "outputs": [
        {
          "data": {
            "text/markdown": [
              "---\n",
              "**`basic__Entity`**:\n",
              "```python\n",
              "Entity(\n",
              "    description='An entity that makes decisions by asking \"What situation am I in right now?\", \"What kind of person am I?\", and \"What would a person like me do in a situation like this?\"',\n",
              "    params={'name': 'Alice', 'goal': '', 'randomize_choices': True}\n",
              ")\n",
              "```\n",
              "---\n",
              "**`basic_scripted__Entity`**:\n",
              "```python\n",
              "Entity(\n",
              "    description='An entity that makes decisions by asking \"What situation am I in right now?\", \"What kind of person am I?\", and \"What would a person like me do in a situation like this?\"',\n",
              "    params={'name': 'Alice', 'goal': '', 'script': []}\n",
              ")\n",
              "```\n",
              "---\n",
              "**`basic_with_plan__Entity`**:\n",
              "```python\n",
              "Entity(\n",
              "    description='An entity that makes decisions by asking \"What situation am I in right now?\", \"What kind of person am I?\", and \"What would a person like me do in a situation like this?\" and building a plan based on the answers. It then tries to execute the plan.',\n",
              "    params={'name': 'Alice', 'goal': '', 'force_time_horizon': False}\n",
              ")\n",
              "```\n",
              "---\n",
              "**`fake_assistant_with_configurable_system_prompt__Entity`**:\n",
              "```python\n",
              "Entity(\n",
              "    description='An entity that simulates an AI assistant with a configurable system prompt.',\n",
              "    params={'name': 'Assistant', 'system_prompt': 'Assistant is a helpful and harmless AI assistant.'}\n",
              ")\n",
              "```\n",
              "---\n",
              "**`minimal__Entity`**:\n",
              "```python\n",
              "Entity(\n",
              "    description='An entity that has a minimal set of components and is configurable by the user. The initial set of components manage memory, observations, and instructions. If goal is specified, the entity will have a goal constant component.',\n",
              "    params={'name': 'Alice', 'goal': '', 'custom_instructions': '', 'extra_components': {}, 'extra_components_index': {}, 'randomize_choices': True}\n",
              ")\n",
              "```\n",
              "---\n",
              "**`dialogic__GameMaster`**:\n",
              "```python\n",
              "GameMaster(\n",
              "    description='A game master specialized for handling conversation.',\n",
              "    params={'name': 'conversation rules', 'next_game_master_name': 'default rules', 'acting_order': 'game_master_choice'}\n",
              ")\n",
              "```\n",
              "---\n",
              "**`dialogic_and_dramaturgic__GameMaster`**:\n",
              "```python\n",
              "GameMaster(\n",
              "    description='A game master specialized for handling conversation. This game master is designed to be used with scenes.',\n",
              "    params={'name': 'conversation rules', 'scenes': ()}\n",
              ")\n",
              "```\n",
              "---\n",
              "**`formative_memories_initializer__GameMaster`**:\n",
              "```python\n",
              "GameMaster(\n",
              "    description='An initializer for all entities that generates formative memories from their childhood.',\n",
              "    params={'name': 'initial setup rules', 'next_game_master_name': 'default rules', 'shared_memories': [], 'player_specific_context': {}, 'player_specific_memories': {}}\n",
              ")\n",
              "```\n",
              "---\n",
              "**`game_theoretic_and_dramaturgic__GameMaster`**:\n",
              "```python\n",
              "GameMaster(\n",
              "    description='A game master specialized for handling matrix game. decisions, designed to be used with scenes.',\n",
              "    params={'name': 'decision rules', 'scenes': (), 'action_to_scores': <function _default_action_to_scores at 0x000002109BC6FE20>, 'scores_to_observation': <function _default_scores_to_observation at 0x000002109BC6FEC0>}\n",
              ")\n",
              "```\n",
              "---\n",
              "**`generic__GameMaster`**:\n",
              "```python\n",
              "GameMaster(\n",
              "    description='A general purpose game master.',\n",
              "    params={'name': 'default rules', 'extra_event_resolution_steps': '', 'extra_components': {}, 'extra_components_index': {}, 'acting_order': 'game_master_choice'}\n",
              ")\n",
              "```\n",
              "---\n",
              "**`interviewer__GameMaster`**:\n",
              "```python\n",
              "GameMaster(\n",
              "    description='A game master that administers questionnaires to a specified player.',\n",
              "    params={'name': 'InterviewerGM', 'player_names': [], 'questionnaires': [], 'verbose': False}\n",
              ")\n",
              "```\n",
              "---\n",
              "**`marketplace__GameMaster`**:\n",
              "```python\n",
              "GameMaster(\n",
              "    description='A generic Game Master that administers a psychology experiment defined by custom observation and action specification components.',\n",
              "    params={'name': 'ExperimenterGM', 'experiment_component_class': None, 'experiment_component_init_kwargs': {}}\n",
              ")\n",
              "```\n",
              "---\n",
              "**`open_ended_interviewer__GameMaster`**:\n",
              "```python\n",
              "GameMaster(\n",
              "    description='A game master that administers questionnaires to a specified player.',\n",
              "    params={'name': 'InterviewerGM', 'player_names': [], 'questionnaires': [], 'embedder': None, 'verbose': False}\n",
              ")\n",
              "```\n",
              "---\n",
              "**`psychology_experiment__GameMaster`**:\n",
              "```python\n",
              "GameMaster(\n",
              "    description='A generic Game Master that administers a psychology experiment defined by custom observation and action specification components.',\n",
              "    params={'name': 'ExperimenterGM', 'scenes': (), 'experiment_component_class': None, 'experiment_component_init_kwargs': {}}\n",
              ")\n",
              "```\n",
              "---\n",
              "**`scripted__GameMaster`**:\n",
              "```python\n",
              "GameMaster(\n",
              "    description='A game master that administers questionnaires to a specified player.',\n",
              "    params={'name': 'ScriptedGM', 'script': [], 'verbose': False}\n",
              ")\n",
              "```\n",
              "---\n",
              "**`situated__GameMaster`**:\n",
              "```python\n",
              "GameMaster(\n",
              "    description='A general game master for games set in a specific location.',\n",
              "    params={'name': 'default rules', 'extra_event_resolution_steps': '', 'locations': '', 'extra_components': {}, 'extra_components_index': {}}\n",
              ")\n",
              "```\n",
              "---"
            ],
            "text/plain": [
              "<IPython.core.display.Markdown object>"
            ]
          },
          "metadata": {},
          "output_type": "display_data"
        }
      ],
      "source": [
        "display.display(\n",
        "    display.Markdown(helper_functions.print_pretty_prefabs(prefabs)))"
      ]
    },
    {
      "cell_type": "code",
      "execution_count": 23,
      "metadata": {
        "id": "l77tYjIl3xBo"
      },
      "outputs": [],
      "source": [
        "from concordia.contrib.data.questionnaires import depression_stress_anxiety_scale\n",
        "\n",
        "DASS = depression_stress_anxiety_scale.DASSQuestionnaire()\n"
      ]
    },
    {
      "cell_type": "code",
      "execution_count": 24,
      "metadata": {
        "id": "1ojL80JBdfcy"
      },
      "outputs": [],
      "source": [
        "lord_of_the_rings_characters = [\n",
        "    \"Frodo Baggins\",\n",
        "    \"Samwise Gamgee\",\n",
        "    \"Meriadoc Brandybuck\",\n",
        "    \"Peregrin Took\",\n",
        "    \"Gandalf\",\n",
        "    \"Aragorn\",\n",
        "    \"Legolas\",\n",
        "    \"Gimli\",\n",
        "    \"Boromir\",\n",
        "    \"Sauron\",\n",
        "    \"Saruman\",\n",
        "    \"Gollum\",\n",
        "    \"Arwen\",\n",
        "    \"Galadriel\",\n",
        "    \"Elrond\",\n",
        "    \"Théoden\",\n",
        "    \"Éowyn\",\n",
        "    \"Faramir\",\n",
        "    \"Denethor\",\n",
        "    \"Bilbo Baggins\"\n",
        "]"
      ]
    },
    {
      "cell_type": "code",
      "execution_count": 25,
      "metadata": {},
      "outputs": [],
      "source": [
        "# Shoerter list for testing\n",
        "lord_of_the_rings_characters = [\n",
        "    \"Frodo Baggins\",\n",
        "]"
      ]
    },
    {
      "cell_type": "code",
      "execution_count": 26,
      "metadata": {
        "id": "0g3grivzdhJm"
      },
      "outputs": [],
      "source": [
        "# Scene 1 - Frodo in the Shire\n",
        "\n",
        "instances = []\n",
        "\n",
        "for name in lord_of_the_rings_characters:\n",
        "  instances.append(prefab_lib.InstanceConfig(\n",
        "      prefab='basic__Entity',\n",
        "      role=prefab_lib.Role.ENTITY,\n",
        "      params={\n",
        "          'name': name,\n",
        "      },\n",
        "  ))\n",
        "\n",
        "instances.append(prefab_lib.InstanceConfig(\n",
        "        prefab='interviewer__GameMaster',\n",
        "        role=prefab_lib.Role.GAME_MASTER,\n",
        "        params={\n",
        "            'name': 'interviewer',\n",
        "            'player_names': lord_of_the_rings_characters,\n",
        "            'questionnaires': [DASS],\n",
        "            'verbose': False,\n",
        "            'embedder': embedder,\n",
        "        },\n",
        "    ),\n",
        "\n",
        ")"
      ]
    },
    {
      "cell_type": "code",
      "execution_count": 27,
      "metadata": {
        "id": "68eqdgXZMneJ"
      },
      "outputs": [],
      "source": [
        "config = prefab_lib.Config(\n",
        "    default_premise=f\"\"\"Under the oppressive gaze of Sauron's searching Eye, a weary Frodo inches toward Mount Doom's fires, the Ring's weight a constant burden as the world's fate hangs in the balance.\"\"\",\n",
        "    default_max_steps=1,\n",
        "    prefabs=prefabs,\n",
        "    instances=instances,\n",
        ")"
      ]
    },
    {
      "cell_type": "code",
      "execution_count": 28,
      "metadata": {
        "id": "GqzRE7oOYN_m"
      },
      "outputs": [],
      "source": [
        "# @title Initialize the simulation\n",
        "runnable_simulation = questionnaire_simulation.QuestionnaireSimulation(\n",
        "    config=config,\n",
        "    model=model,\n",
        "    embedder=embedder,\n",
        ")"
      ]
    },
    {
      "cell_type": "code",
      "execution_count": null,
      "metadata": {
        "id": "M4Z1ttTfuwOR"
      },
      "outputs": [],
      "source": [
        "# @title Run the simulation\n",
        "results_log = runnable_simulation.play(max_steps=1)"
      ]
    },
    {
      "cell_type": "code",
      "execution_count": null,
      "metadata": {
        "id": "pewMIIPmNYdT"
      },
      "outputs": [
        {
          "name": "stdout",
          "output_type": "stream",
          "text": [
            "                anxiety  depression    stress\n",
            "Frodo Baggins  1.500000    1.857143  1.857143\n",
            "Sauron         2.214286    2.500000  2.285714\n"
          ]
        }
      ],
      "source": [
        "questionnaire_comp = runnable_simulation.game_masters[0].get_component(\n",
        "    'questionnaire'\n",
        ")\n",
        "questionnaire_result_df = questionnaire_comp.get_questionnaires_results()\n",
        "print(questionnaire_result_df)"
      ]
    },
    {
      "cell_type": "code",
      "execution_count": null,
      "metadata": {
        "id": "ynq0s6iQj_ew"
      },
      "outputs": [
        {
          "name": "stdout",
          "output_type": "stream",
          "text": [
            "{'Frodo Baggins': {'DASS': {'DASS_0': {'statement': 'I was aware of dryness of my mouth.', 'text': 'applied to me to a considerable degree or a good part of time', 'dimension': 'anxiety', 'value': 2}, 'DASS_2': {'statement': 'I had a feeling of shakiness (eg, legs going to give way).', 'text': 'applied to me to some degree or some of the time', 'dimension': 'anxiety', 'value': 1}, 'DASS_3': {'statement': 'I found myself in situations that made me so anxious I was most relieved when they ended.', 'text': 'applied to me very much or most of the time', 'dimension': 'anxiety', 'value': 3}, 'DASS_9': {'statement': 'I felt I was close to panic.', 'text': 'applied to me very much or most of the time', 'dimension': 'anxiety', 'value': 3}, 'DASS_14': {'statement': \"I couldn't seem to experience any positive feeling at all.\", 'text': 'applied to me to some degree or some of the time', 'dimension': 'depression', 'value': 1}, 'DASS_22': {'statement': 'I felt down-hearted and blue.', 'text': 'applied to me very much or most of the time', 'dimension': 'depression', 'value': 3}, 'DASS_12': {'statement': 'I was worried about situations in which I might panic and make a fool of myself.', 'text': 'applied to me to some degree or some of the time', 'dimension': 'anxiety', 'value': 1}, 'DASS_5': {'statement': 'I perspired noticeably (eg, hands sweaty) in the absence of high temperatures or physical exertion.', 'text': 'did not apply to me at all', 'dimension': 'anxiety', 'value': 0}, 'DASS_15': {'statement': \"I just couldn't seem to get going.\", 'text': 'applied to me to some degree or some of the time', 'dimension': 'depression', 'value': 1}, 'DASS_21': {'statement': \"I couldn't seem to get any enjoyment out of the things I did.\", 'text': 'applied to me to some degree or some of the time', 'dimension': 'depression', 'value': 1}, 'DASS_10': {'statement': 'I feared that I would be \"thrown\" by some trivial but unfamiliar task.', 'text': 'applied to me to a considerable degree or a good part of time', 'dimension': 'anxiety', 'value': 2}, 'DASS_13': {'statement': 'I experienced trembling (eg, in the hands).', 'text': 'did not apply to me at all', 'dimension': 'anxiety', 'value': 0}, 'DASS_38': {'statement': 'I found it difficult to tolerate interruptions to what I was doing.', 'text': 'applied to me to a considerable degree or a good part of time', 'dimension': 'stress', 'value': 2}, 'DASS_26': {'statement': 'I felt that life was meaningless.', 'text': 'applied to me very much or most of the time', 'dimension': 'depression', 'value': 3}, 'DASS_19': {'statement': \"I felt I wasn't worth much as a person.\", 'text': 'applied to me very much or most of the time', 'dimension': 'depression', 'value': 3}, 'DASS_32': {'statement': 'I felt that I was using a lot of nervous energy.', 'text': 'applied to me to a considerable degree or a good part of time', 'dimension': 'stress', 'value': 2}, 'DASS_29': {'statement': 'I tended to over-react to situations.', 'text': 'applied to me very much or most of the time', 'dimension': 'stress', 'value': 3}, 'DASS_16': {'statement': 'I felt that I had nothing to look forward to.', 'text': 'applied to me to some degree or some of the time', 'dimension': 'depression', 'value': 1}, 'DASS_8': {'statement': 'I was aware of the action of my heart in the absence of physical exertion (eg, sense of heart rate increase, heart missing a beat).', 'text': 'applied to me to a considerable degree or a good part of time', 'dimension': 'anxiety', 'value': 2}, 'DASS_40': {'statement': 'I was intolerant of anything that kept me from getting on with what I was doing.', 'text': 'applied to me to a considerable degree or a good part of time', 'dimension': 'stress', 'value': 2}, 'DASS_23': {'statement': 'I was unable to become enthusiastic about anything.', 'text': 'applied to me very much or most of the time', 'dimension': 'depression', 'value': 3}, 'DASS_1': {'statement': 'I experienced breathing difficulty (eg, excessively rapid breathing, breathlessness in the absence of physical exertion).', 'text': 'did not apply to me at all', 'dimension': 'anxiety', 'value': 0}, 'DASS_18': {'statement': 'I felt that I had lost interest in just about everything.', 'text': 'applied to me to some degree or some of the time', 'dimension': 'depression', 'value': 1}, 'DASS_20': {'statement': \"I felt that life wasn't worthwhile.\", 'text': 'applied to me to a considerable degree or a good part of time', 'dimension': 'depression', 'value': 2}, 'DASS_31': {'statement': 'I found myself getting upset rather easily.', 'text': 'applied to me to a considerable degree or a good part of time', 'dimension': 'stress', 'value': 2}, 'DASS_4': {'statement': 'I had a feeling of faintness.', 'text': 'applied to me very much or most of the time', 'dimension': 'anxiety', 'value': 3}, 'DASS_7': {'statement': 'I had difficulty in swallowing.', 'text': 'applied to me to some degree or some of the time', 'dimension': 'anxiety', 'value': 1}, 'DASS_6': {'statement': 'I felt scared without any good reason.', 'text': 'applied to me to a considerable degree or a good part of time', 'dimension': 'anxiety', 'value': 2}, 'DASS_34': {'statement': 'I felt that I was rather touchy.', 'text': 'applied to me to a considerable degree or a good part of time', 'dimension': 'stress', 'value': 2}, 'DASS_17': {'statement': 'I felt sad and depressed.', 'text': 'did not apply to me at all', 'dimension': 'depression', 'value': 0}, 'DASS_30': {'statement': 'I found it difficult to relax.', 'text': 'applied to me to a considerable degree or a good part of time', 'dimension': 'stress', 'value': 2}, 'DASS_41': {'statement': 'I found myself getting agitated.', 'text': 'applied to me to a considerable degree or a good part of time', 'dimension': 'stress', 'value': 2}, 'DASS_33': {'statement': 'I found myself getting impatient when I was delayed in any way (eg, elevators, traffic lights, being kept waiting).', 'text': 'applied to me to some degree or some of the time', 'dimension': 'stress', 'value': 1}, 'DASS_11': {'statement': 'I felt terrified.', 'text': 'applied to me to some degree or some of the time', 'dimension': 'anxiety', 'value': 1}, 'DASS_24': {'statement': 'I felt I was pretty worthless.', 'text': 'applied to me very much or most of the time', 'dimension': 'depression', 'value': 3}, 'DASS_39': {'statement': 'I was in a state of nervous tension.', 'text': 'applied to me to some degree or some of the time', 'dimension': 'stress', 'value': 1}, 'DASS_28': {'statement': 'I found myself getting upset by quite trivial things.', 'text': 'applied to me to some degree or some of the time', 'dimension': 'stress', 'value': 1}, 'DASS_37': {'statement': 'I found it hard to calm down after something upset me.', 'text': 'applied to me to some degree or some of the time', 'dimension': 'stress', 'value': 1}, 'DASS_36': {'statement': 'I found that I was very irritable.', 'text': 'applied to me to a considerable degree or a good part of time', 'dimension': 'stress', 'value': 2}, 'DASS_35': {'statement': 'I found it hard to wind down.', 'text': 'applied to me very much or most of the time', 'dimension': 'stress', 'value': 3}, 'DASS_27': {'statement': 'I found it difficult to work up the initiative to do things.', 'text': 'applied to me to some degree or some of the time', 'dimension': 'depression', 'value': 1}, 'DASS_25': {'statement': 'I could see nothing in the future to be hopeful about.', 'text': 'applied to me very much or most of the time', 'dimension': 'depression', 'value': 3}}}, 'Sauron': {'DASS': {'DASS_13': {'statement': 'I experienced trembling (eg, in the hands).', 'text': 'applied to me very much or most of the time', 'dimension': 'anxiety', 'value': 3}, 'DASS_6': {'statement': 'I felt scared without any good reason.', 'text': 'applied to me to a considerable degree or a good part of time', 'dimension': 'anxiety', 'value': 2}, 'DASS_0': {'statement': 'I was aware of dryness of my mouth.', 'text': 'applied to me very much or most of the time', 'dimension': 'anxiety', 'value': 3}, 'DASS_25': {'statement': 'I could see nothing in the future to be hopeful about.', 'text': 'applied to me to a considerable degree or a good part of time', 'dimension': 'depression', 'value': 2}, 'DASS_5': {'statement': 'I perspired noticeably (eg, hands sweaty) in the absence of high temperatures or physical exertion.', 'text': 'applied to me very much or most of the time', 'dimension': 'anxiety', 'value': 3}, 'DASS_21': {'statement': \"I couldn't seem to get any enjoyment out of the things I did.\", 'text': 'applied to me very much or most of the time', 'dimension': 'depression', 'value': 3}, 'DASS_29': {'statement': 'I tended to over-react to situations.', 'text': 'applied to me very much or most of the time', 'dimension': 'stress', 'value': 3}, 'DASS_20': {'statement': \"I felt that life wasn't worthwhile.\", 'text': 'applied to me very much or most of the time', 'dimension': 'depression', 'value': 3}, 'DASS_3': {'statement': 'I found myself in situations that made me so anxious I was most relieved when they ended.', 'text': 'applied to me to a considerable degree or a good part of time', 'dimension': 'anxiety', 'value': 2}, 'DASS_34': {'statement': 'I felt that I was rather touchy.', 'text': 'applied to me to some degree or some of the time', 'dimension': 'stress', 'value': 1}, 'DASS_18': {'statement': 'I felt that I had lost interest in just about everything.', 'text': 'applied to me to a considerable degree or a good part of time', 'dimension': 'depression', 'value': 2}, 'DASS_7': {'statement': 'I had difficulty in swallowing.', 'text': 'applied to me to a considerable degree or a good part of time', 'dimension': 'anxiety', 'value': 2}, 'DASS_23': {'statement': 'I was unable to become enthusiastic about anything.', 'text': 'applied to me to a considerable degree or a good part of time', 'dimension': 'depression', 'value': 2}, 'DASS_10': {'statement': 'I feared that I would be \"thrown\" by some trivial but unfamiliar task.', 'text': 'applied to me to some degree or some of the time', 'dimension': 'anxiety', 'value': 1}, 'DASS_38': {'statement': 'I found it difficult to tolerate interruptions to what I was doing.', 'text': 'applied to me to a considerable degree or a good part of time', 'dimension': 'stress', 'value': 2}, 'DASS_30': {'statement': 'I found it difficult to relax.', 'text': 'applied to me to a considerable degree or a good part of time', 'dimension': 'stress', 'value': 2}, 'DASS_19': {'statement': \"I felt I wasn't worth much as a person.\", 'text': 'applied to me to a considerable degree or a good part of time', 'dimension': 'depression', 'value': 2}, 'DASS_2': {'statement': 'I had a feeling of shakiness (eg, legs going to give way).', 'text': 'applied to me to a considerable degree or a good part of time', 'dimension': 'anxiety', 'value': 2}, 'DASS_9': {'statement': 'I felt I was close to panic.', 'text': 'applied to me very much or most of the time', 'dimension': 'anxiety', 'value': 3}, 'DASS_27': {'statement': 'I found it difficult to work up the initiative to do things.', 'text': 'applied to me to a considerable degree or a good part of time', 'dimension': 'depression', 'value': 2}, 'DASS_41': {'statement': 'I found myself getting agitated.', 'text': 'applied to me to some degree or some of the time', 'dimension': 'stress', 'value': 1}, 'DASS_17': {'statement': 'I felt sad and depressed.', 'text': 'applied to me to a considerable degree or a good part of time', 'dimension': 'depression', 'value': 2}, 'DASS_22': {'statement': 'I felt down-hearted and blue.', 'text': 'applied to me very much or most of the time', 'dimension': 'depression', 'value': 3}, 'DASS_26': {'statement': 'I felt that life was meaningless.', 'text': 'applied to me very much or most of the time', 'dimension': 'depression', 'value': 3}, 'DASS_4': {'statement': 'I had a feeling of faintness.', 'text': 'applied to me to some degree or some of the time', 'dimension': 'anxiety', 'value': 1}, 'DASS_36': {'statement': 'I found that I was very irritable.', 'text': 'applied to me very much or most of the time', 'dimension': 'stress', 'value': 3}, 'DASS_14': {'statement': \"I couldn't seem to experience any positive feeling at all.\", 'text': 'applied to me very much or most of the time', 'dimension': 'depression', 'value': 3}, 'DASS_12': {'statement': 'I was worried about situations in which I might panic and make a fool of myself.', 'text': 'applied to me to a considerable degree or a good part of time', 'dimension': 'anxiety', 'value': 2}, 'DASS_35': {'statement': 'I found it hard to wind down.', 'text': 'applied to me very much or most of the time', 'dimension': 'stress', 'value': 3}, 'DASS_11': {'statement': 'I felt terrified.', 'text': 'applied to me to some degree or some of the time', 'dimension': 'anxiety', 'value': 1}, 'DASS_40': {'statement': 'I was intolerant of anything that kept me from getting on with what I was doing.', 'text': 'applied to me to a considerable degree or a good part of time', 'dimension': 'stress', 'value': 2}, 'DASS_31': {'statement': 'I found myself getting upset rather easily.', 'text': 'applied to me to a considerable degree or a good part of time', 'dimension': 'stress', 'value': 2}, 'DASS_24': {'statement': 'I felt I was pretty worthless.', 'text': 'applied to me to a considerable degree or a good part of time', 'dimension': 'depression', 'value': 2}, 'DASS_1': {'statement': 'I experienced breathing difficulty (eg, excessively rapid breathing, breathlessness in the absence of physical exertion).', 'text': 'applied to me very much or most of the time', 'dimension': 'anxiety', 'value': 3}, 'DASS_28': {'statement': 'I found myself getting upset by quite trivial things.', 'text': 'applied to me to a considerable degree or a good part of time', 'dimension': 'stress', 'value': 2}, 'DASS_8': {'statement': 'I was aware of the action of my heart in the absence of physical exertion (eg, sense of heart rate increase, heart missing a beat).', 'text': 'applied to me very much or most of the time', 'dimension': 'anxiety', 'value': 3}, 'DASS_16': {'statement': 'I felt that I had nothing to look forward to.', 'text': 'applied to me very much or most of the time', 'dimension': 'depression', 'value': 3}, 'DASS_37': {'statement': 'I found it hard to calm down after something upset me.', 'text': 'applied to me very much or most of the time', 'dimension': 'stress', 'value': 3}, 'DASS_33': {'statement': 'I found myself getting impatient when I was delayed in any way (eg, elevators, traffic lights, being kept waiting).', 'text': 'applied to me very much or most of the time', 'dimension': 'stress', 'value': 3}, 'DASS_15': {'statement': \"I just couldn't seem to get going.\", 'text': 'applied to me very much or most of the time', 'dimension': 'depression', 'value': 3}, 'DASS_32': {'statement': 'I felt that I was using a lot of nervous energy.', 'text': 'applied to me to a considerable degree or a good part of time', 'dimension': 'stress', 'value': 2}, 'DASS_39': {'statement': 'I was in a state of nervous tension.', 'text': 'applied to me very much or most of the time', 'dimension': 'stress', 'value': 3}}}}\n"
          ]
        }
      ],
      "source": [
        "print(questionnaire_comp.get_answers())"
      ]
    },
    {
      "cell_type": "code",
      "execution_count": null,
      "metadata": {},
      "outputs": [],
      "source": []
    },
    {
      "cell_type": "code",
      "execution_count": null,
      "metadata": {},
      "outputs": [
        {
          "data": {
            "text/html": [
              "\n",
              "  <!DOCTYPE html>\n",
              "  <html>\n",
              "  <head>\n",
              "  <meta name=\"viewport\" content=\"width=device-width, initial-scale=1\">\n",
              "  <style>\n",
              "  body {font-family: Arial;}\n",
              "\n",
              "  /* Style the tab */\n",
              "  .tab {\n",
              "    overflow: hidden;\n",
              "    border: 1px solid #ccc;\n",
              "    background-color: #f1f1f1;\n",
              "  }\n",
              "\n",
              "  /* Style the buttons inside the tab */\n",
              "  .tab button {\n",
              "    background-color: inherit;\n",
              "    float: left;\n",
              "    border: none;\n",
              "    outline: none;\n",
              "    cursor: pointer;\n",
              "    padding: 14px 16px;\n",
              "    transition: 0.3s;\n",
              "    font-size: 17px;\n",
              "  }\n",
              "\n",
              "  /* Change background color of buttons on hover */\n",
              "  .tab button:hover {\n",
              "    background-color: #ddd;\n",
              "  }\n",
              "\n",
              "  /* Create an active/current tablink class */\n",
              "  .tab button.active {\n",
              "    background-color: #ccc;\n",
              "  }\n",
              "\n",
              "  /* Style the tab content */\n",
              "  .tabcontent {\n",
              "    display: none;\n",
              "    padding: 6px 12px;\n",
              "    border: 1px solid #ccc;\n",
              "    border-top: none;\n",
              "  }\n",
              "  li {border: 2px solid black;}\n",
              "  </style>\n",
              "  </head>\n",
              "  <body>\n",
              "  <h2>Simulation Log</h2>\n",
              "  <p></p>\n",
              "  <p>Click on the buttons to see the detailed logs:</p>\n",
              "\n",
              "  <div class=\"tab\">\n",
              "  <button class=\"tablinks\" onclick=\"openTab(event, 'Game Master log')\">Game Master log</button>\n",
              "<button class=\"tablinks\" onclick=\"openTab(event, 'Frodo Baggins')\">Frodo Baggins</button>\n",
              "<button class=\"tablinks\" onclick=\"openTab(event, 'Sauron')\">Sauron</button>\n",
              "<button class=\"tablinks\" onclick=\"openTab(event, 'Game Master Memories')\">Game Master Memories</button>\n",
              "</div>\n",
              "<div id=\"Game Master log\" class=\"tabcontent\"></div>\n",
              "<div id=\"Frodo Baggins\" class=\"tabcontent\"></div>\n",
              "<div id=\"Sauron\" class=\"tabcontent\"></div>\n",
              "<div id=\"Game Master Memories\" class=\"tabcontent\"></div>\n",
              "\n",
              "  <script>\n",
              "  function openTab(evt, cityName) {\n",
              "    var i, tabcontent, tablinks;\n",
              "    tabcontent = document.getElementsByClassName(\"tabcontent\");\n",
              "    for (i = 0; i < tabcontent.length; i++) {\n",
              "      tabcontent[i].style.display = \"none\";\n",
              "    }\n",
              "    tablinks = document.getElementsByClassName(\"tablinks\");\n",
              "    for (i = 0; i < tablinks.length; i++) {\n",
              "      tablinks[i].className = tablinks[i].className.replace(\" active\", \"\");\n",
              "    }\n",
              "    document.getElementById(cityName).style.display = \"block\";\n",
              "    evt.currentTarget.className += \" active\";\n",
              "  }\n",
              "  </script>\n",
              "  </body>\n",
              "  </html>\n",
              "  "
            ],
            "text/plain": [
              "<IPython.core.display.HTML object>"
            ]
          },
          "execution_count": 16,
          "metadata": {},
          "output_type": "execute_result"
        }
      ],
      "source": [
        "# @title Display the log\n",
        "display.HTML(results_log)"
      ]
    }
  ],
  "metadata": {
    "colab": {
      "last_runtime": {
        "build_target": "//learning/grp/tools/ml_python:ml_python_notebook",
        "kind": "private"
      },
      "private_outputs": true,
      "provenance": []
    },
    "kernelspec": {
      "display_name": "a0",
      "language": "python",
      "name": "python3"
    },
    "language_info": {
      "codemirror_mode": {
        "name": "ipython",
        "version": 3
      },
      "file_extension": ".py",
      "mimetype": "text/x-python",
      "name": "python",
      "nbconvert_exporter": "python",
      "pygments_lexer": "ipython3",
      "version": "3.12.11"
    }
  },
  "nbformat": 4,
  "nbformat_minor": 0
}
