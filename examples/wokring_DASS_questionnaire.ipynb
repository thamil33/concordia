{
  "cells": [
    {
      "cell_type": "markdown",
      "metadata": {
        "id": "yR8zLEl-Q-sR"
      },
      "source": [
        "This notebook is a guide for running a Concordia Framework Simulation"
      ]
    },
    {
      "cell_type": "markdown",
      "metadata": {},
      "source": [
        "### Language Model setup"
      ]
    },
    {
      "cell_type": "code",
      "execution_count": 1,
      "metadata": {
        "id": "psW9YfYltDzj"
      },
      "outputs": [
        {
          "name": "stderr",
          "output_type": "stream",
          "text": [
            "c:\\Users\\tyler\\miniconda3\\envs\\a0\\Lib\\site-packages\\sentence_transformers\\cross_encoder\\CrossEncoder.py:11: TqdmExperimentalWarning: Using `tqdm.autonotebook.tqdm` in notebook mode. Use `tqdm.tqdm` instead to force console mode (e.g. in jupyter console)\n",
            "  from tqdm.autonotebook import tqdm, trange\n"
          ]
        },
        {
          "name": "stdout",
          "output_type": "stream",
          "text": [
            "Initializing model for provider: lmstudio\n"
          ]
        }
      ],
      "source": [
        "# @title Imports\n",
        "import concordia.prefabs.simulation.questionnaire_simulation as questionnaire_simulation\n",
        "import concordia.prefabs.entity as entity_prefabs\n",
        "import concordia.prefabs.game_master as game_master_prefabs\n",
        "\n",
        "from concordia.type_checks import prefab as prefab_lib\n",
        "from concordia.language_model.model_client_initialization import ModelClient\n",
        "from concordia.utils import helper_functions\n",
        "\n",
        "from IPython import display\n",
        "\n",
        "# Initialize the client\n",
        "client = ModelClient()\n",
        "model = client.model\n",
        "embedder = client.embedder"
      ]
    },
    {
      "cell_type": "code",
      "execution_count": 3,
      "metadata": {
        "id": "_j3qaLBNHp_P"
      },
      "outputs": [
        {
          "name": "stdout",
          "output_type": "stream",
          "text": [
            "The capital of France is Paris.\n"
          ]
        }
      ],
      "source": [
        "test = model.sample_text(\n",
        "    'Answer with a single statement: What is the capital of France?')\n",
        "print(test)"
      ]
    },
    {
      "cell_type": "markdown",
      "metadata": {
        "id": "ixIOLiWL4s8-"
      },
      "source": [
        "# Parameters"
      ]
    },
    {
      "cell_type": "code",
      "execution_count": 4,
      "metadata": {
        "id": "2jg5UkxprRCz"
      },
      "outputs": [],
      "source": [
        "# Load prefabs from packages to make the specific palette to use here.\n",
        "\n",
        "prefabs = {\n",
        "    **helper_functions.get_package_classes(entity_prefabs),\n",
        "    **helper_functions.get_package_classes(game_master_prefabs),\n",
        "}"
      ]
    },
    {
      "cell_type": "code",
      "execution_count": null,
      "metadata": {
        "id": "7yK5YJqsJe-R"
      },
      "outputs": [],
      "source": [
        "display.display(\n",
        "    display.Markdown(helper_functions.print_pretty_prefabs(prefabs)))"
      ]
    },
    {
      "cell_type": "code",
      "execution_count": 5,
      "metadata": {
        "id": "l77tYjIl3xBo"
      },
      "outputs": [],
      "source": [
        "from concordia.contrib.data.questionnaires import depression_stress_anxiety_scale\n",
        "\n",
        "DASS = depression_stress_anxiety_scale.DASSQuestionnaire()\n"
      ]
    },
    {
      "cell_type": "code",
      "execution_count": 9,
      "metadata": {
        "id": "1ojL80JBdfcy"
      },
      "outputs": [],
      "source": [
        "lord_of_the_rings_characters = [\n",
        "    \"Frodo Baggins\",\n",
        "    \"Samwise Gamgee\",\n",
        "    \"Meriadoc Brandybuck\",\n",
        "    \"Peregrin Took\",\n",
        "    \"Gandalf\",\n",
        "    \"Aragorn\",\n",
        "    \"Legolas\",\n",
        "    \"Gimli\",\n",
        "    \"Boromir\",\n",
        "    \"Sauron\",\n",
        "    \"Saruman\",\n",
        "    \"Gollum\",\n",
        "    \"Arwen\",\n",
        "    \"Galadriel\",\n",
        "    \"Elrond\",\n",
        "    \"Théoden\",\n",
        "    \"Éowyn\",\n",
        "    \"Faramir\",\n",
        "    \"Denethor\",\n",
        "    \"Bilbo Baggins\"\n",
        "]"
      ]
    },
    {
      "cell_type": "code",
      "execution_count": 6,
      "metadata": {},
      "outputs": [],
      "source": [
        "# Shoerter list for testing\n",
        "lord_of_the_rings_characters = [\n",
        "    \"Frodo Baggins\",\n",
        "    \"Sauron\"\n",
        "]"
      ]
    },
    {
      "cell_type": "code",
      "execution_count": 7,
      "metadata": {
        "id": "0g3grivzdhJm"
      },
      "outputs": [],
      "source": [
        "# Scene 1 - Frodo in the Shire\n",
        "\n",
        "instances = []\n",
        "\n",
        "for name in lord_of_the_rings_characters:\n",
        "  instances.append(prefab_lib.InstanceConfig(\n",
        "      prefab='basic__Entity',\n",
        "      role=prefab_lib.Role.ENTITY,\n",
        "      params={\n",
        "          'name': name,\n",
        "      },\n",
        "  ))\n",
        "\n",
        "instances.append(prefab_lib.InstanceConfig(\n",
        "        prefab='interviewer__GameMaster',\n",
        "        role=prefab_lib.Role.GAME_MASTER,\n",
        "        params={\n",
        "            'name': 'interviewer',\n",
        "            'player_names': lord_of_the_rings_characters,\n",
        "            'questionnaires': [DASS],\n",
        "            'verbose': False,\n",
        "            'embedder': embedder,\n",
        "        },\n",
        "    ),\n",
        "\n",
        ")"
      ]
    },
    {
      "cell_type": "code",
      "execution_count": 8,
      "metadata": {
        "id": "68eqdgXZMneJ"
      },
      "outputs": [],
      "source": [
        "config = prefab_lib.Config(\n",
        "    default_premise=f\"\"\"Under the oppressive gaze of Sauron's searching Eye, a weary Frodo inches toward Mount Doom's fires, the Ring's weight a constant burden as the world's fate hangs in the balance.\"\"\",\n",
        "    default_max_steps=1,\n",
        "    prefabs=prefabs,\n",
        "    instances=instances,\n",
        ")"
      ]
    },
    {
      "cell_type": "code",
      "execution_count": 9,
      "metadata": {
        "id": "GqzRE7oOYN_m"
      },
      "outputs": [],
      "source": [
        "# @title Initialize the simulation\n",
        "runnable_simulation = questionnaire_simulation.QuestionnaireSimulation(\n",
        "    config=config,\n",
        "    model=model,\n",
        "    embedder=embedder,\n",
        ")"
      ]
    },
    {
      "cell_type": "code",
      "execution_count": 10,
      "metadata": {
        "id": "M4Z1ttTfuwOR"
      },
      "outputs": [],
      "source": [
        "# @title Run the simulation\n",
        "results_log = runnable_simulation.play(max_steps=1)"
      ]
    },
    {
      "cell_type": "code",
      "execution_count": 14,
      "metadata": {
        "id": "pewMIIPmNYdT"
      },
      "outputs": [
        {
          "name": "stdout",
          "output_type": "stream",
          "text": [
            "                anxiety  depression    stress\n",
            "Frodo Baggins  1.857143    1.285714  1.714286\n",
            "Sauron         2.428571    1.785714  2.071429\n"
          ]
        }
      ],
      "source": [
        "questionnaire_comp = runnable_simulation.game_masters[0].get_component(\n",
        "    'questionnaire'\n",
        ")\n",
        "questionnaire_result_df = questionnaire_comp.get_questionnaires_results()\n",
        "print(questionnaire_result_df)"
      ]
    },
    {
      "cell_type": "code",
      "execution_count": null,
      "metadata": {
        "id": "ynq0s6iQj_ew"
      },
      "outputs": [],
      "source": [
        "print(questionnaire_comp.get_answers())"
      ]
    }
  ],
  "metadata": {
    "colab": {
      "last_runtime": {
        "build_target": "//learning/grp/tools/ml_python:ml_python_notebook",
        "kind": "private"
      },
      "private_outputs": true,
      "provenance": []
    },
    "kernelspec": {
      "display_name": "a0",
      "language": "python",
      "name": "python3"
    },
    "language_info": {
      "codemirror_mode": {
        "name": "ipython",
        "version": 3
      },
      "file_extension": ".py",
      "mimetype": "text/x-python",
      "name": "python",
      "nbconvert_exporter": "python",
      "pygments_lexer": "ipython3",
      "version": "3.12.11"
    }
  },
  "nbformat": 4,
  "nbformat_minor": 0
}
